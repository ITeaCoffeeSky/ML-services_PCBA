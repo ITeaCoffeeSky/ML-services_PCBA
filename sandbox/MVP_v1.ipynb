{
 "cells": [
  {
   "cell_type": "code",
   "execution_count": 1,
   "id": "8171bba6-714a-4e63-a917-bc5cffe356c3",
   "metadata": {},
   "outputs": [],
   "source": [
    "from lxml import etree"
   ]
  },
  {
   "cell_type": "code",
   "execution_count": 2,
   "id": "cb4b8132-935b-4a6d-93aa-80409faa9643",
   "metadata": {},
   "outputs": [
    {
     "data": {
      "text/plain": [
       "(<lxml.etree._ElementTree at 0x755523dec1c0>,\n",
       " <Element {http://tempuri.org/BoardTestXMLExport.xsd}BoardTestXMLExport at 0x755523def000>)"
      ]
     },
     "execution_count": 2,
     "metadata": {},
     "output_type": "execute_result"
    }
   ],
   "source": [
    "path = '/media/ilya/My Passport/HSE/VKR/ML_AOI_helper/rawDATA/all-vvts-xml-marchonly/Y1MTB44B5Z05F#MBDX86742001B_T#V510#D-SMT-AOI-41#1#1709274502000#PostRepair#1709276140000.xml'\n",
    "root = etree.parse(path)\n",
    "root, root.getroot()"
   ]
  },
  {
   "cell_type": "code",
   "execution_count": 3,
   "id": "2fdb098c-4c44-4488-b0c4-0cd03c35f630",
   "metadata": {},
   "outputs": [
    {
     "data": {
      "text/plain": [
       "[]"
      ]
     },
     "execution_count": 3,
     "metadata": {},
     "output_type": "execute_result"
    }
   ],
   "source": [
    "root.xpath('//BoardTestXMLExport/text', namespaces=root.getroot().nsmap)"
   ]
  },
  {
   "cell_type": "code",
   "execution_count": 4,
   "id": "9ff3fb83-7a38-4eb4-8092-e68616e6cc00",
   "metadata": {},
   "outputs": [
    {
     "data": {
      "text/plain": [
       "'{http://tempuri.org/BoardTestXMLExport.xsd}BoardTestXMLExport'"
      ]
     },
     "execution_count": 4,
     "metadata": {},
     "output_type": "execute_result"
    }
   ],
   "source": [
    "root.getroot().tag"
   ]
  },
  {
   "cell_type": "code",
   "execution_count": 5,
   "id": "93f36b87-974b-4d05-8e58-3c0bcb0b13e9",
   "metadata": {},
   "outputs": [
    {
     "data": {
      "text/plain": [
       "{'ns1': 'http://tempuri.org/BoardTestXMLExport.xsd'}"
      ]
     },
     "execution_count": 5,
     "metadata": {},
     "output_type": "execute_result"
    }
   ],
   "source": [
    "ns = root.getroot().nsmap\n",
    "ns"
   ]
  },
  {
   "cell_type": "code",
   "execution_count": 143,
   "id": "d4026bf2-e4e6-473a-bd50-28da87dd16a3",
   "metadata": {},
   "outputs": [
    {
     "data": {
      "text/plain": [
       "'Y1MTB44B5Z05F'"
      ]
     },
     "execution_count": 143,
     "metadata": {},
     "output_type": "execute_result"
    }
   ],
   "source": [
    "sn = root.getroot().find(\"ns1:BoardXML\", ns).attrib.get('serialNumber')\n",
    "sn"
   ]
  },
  {
   "cell_type": "code",
   "execution_count": 52,
   "id": "f064e245-b2dc-498e-9902-1e1ea2fe3481",
   "metadata": {},
   "outputs": [],
   "source": [
    "root.getroot().find('BoardXML', namespaces=root.getroot().nsmap)"
   ]
  },
  {
   "cell_type": "code",
   "execution_count": 6,
   "id": "22385d0d-8019-45ff-81f1-fde0cd538b60",
   "metadata": {},
   "outputs": [
    {
     "data": {
      "text/plain": [
       "<Element {http://tempuri.org/BoardTestXMLExport.xsd}root at 0x755520427ac0>"
      ]
     },
     "execution_count": 6,
     "metadata": {},
     "output_type": "execute_result"
    }
   ],
   "source": [
    "rootaa = etree.XML(\"\"\"<ns1:root xmlns:ns1=\"http://tempuri.org/BoardTestXMLExport.xsd\" ><ns1:a x='123'>aText<b/><c/><b/></ns1:a></ns1:root>\"\"\")\n",
    "rootaa"
   ]
  },
  {
   "cell_type": "code",
   "execution_count": 7,
   "id": "05571a88-de11-491d-b001-f1e9ee217336",
   "metadata": {},
   "outputs": [
    {
     "data": {
      "text/plain": [
       "'aText'"
      ]
     },
     "execution_count": 7,
     "metadata": {},
     "output_type": "execute_result"
    }
   ],
   "source": [
    "rootaa.find(\".//ns1:a\", ns).text"
   ]
  },
  {
   "cell_type": "code",
   "execution_count": 8,
   "id": "8792fa72-f3d9-4a28-b9bc-29dcdac545fc",
   "metadata": {},
   "outputs": [
    {
     "data": {
      "text/plain": [
       "74"
      ]
     },
     "execution_count": 8,
     "metadata": {},
     "output_type": "execute_result"
    }
   ],
   "source": [
    "tests = root.getroot().findall(\".//ns1:TestXML\", ns) #.attrib.get('name')\n",
    "len(tests)"
   ]
  },
  {
   "cell_type": "code",
   "execution_count": 9,
   "id": "f0ae8745-639d-4aac-ad09-e3d92e7c853d",
   "metadata": {},
   "outputs": [
    {
     "data": {
      "text/plain": [
       "[<Element {http://tempuri.org/BoardTestXMLExport.xsd}IndictmentXML at 0x755509ba5600>,\n",
       " <Element {http://tempuri.org/BoardTestXMLExport.xsd}IndictmentXML at 0x755509ba6dc0>]"
      ]
     },
     "execution_count": 9,
     "metadata": {},
     "output_type": "execute_result"
    }
   ],
   "source": [
    "aa = tests[0].findall(\".//ns1:IndictmentXML\", ns)\n",
    "aa"
   ]
  },
  {
   "cell_type": "code",
   "execution_count": 10,
   "id": "f7af659a-8e6e-42c9-b1a3-4ea1c2b43263",
   "metadata": {},
   "outputs": [
    {
     "data": {
      "text/plain": [
       "<Element {http://tempuri.org/BoardTestXMLExport.xsd}RepairActionXML at 0x755509ba6c00>"
      ]
     },
     "execution_count": 10,
     "metadata": {},
     "output_type": "execute_result"
    }
   ],
   "source": [
    "aaa = aa[0].find(\"ns1:RepairActionXML\", ns)\n",
    "aaa"
   ]
  },
  {
   "cell_type": "code",
   "execution_count": 24,
   "id": "1f91806f-d0af-43cf-9daa-07a9ed88ee11",
   "metadata": {},
   "outputs": [],
   "source": [
    "class Defect:\n",
    "    assemblyRevision = ''\n",
    "    serialNumber = ''\n",
    "    testerName = ''\n",
    "    type = ''\n",
    "    indictmentType = ''\n",
    "    repairOperator = ''\n",
    "    repairStatus = ''\n",
    "    designator = ''\n",
    "    partId = ''\n",
    "    pinId = ''\n",
    "\n",
    "    def to_dict(self):\n",
    "        res = {}\n",
    "        res['assemblyRevision'] = self.assemblyRevision\n",
    "        res['serialNumber'] = self.serialNumber\n",
    "        res['testerName'] = self.testerName\n",
    "        res['type'] = self.type\n",
    "        res['indictmentType'] = self.indictmentType\n",
    "        res['repairOperator'] = self.repairOperator\n",
    "        res['repairStatus'] = self.repairStatus\n",
    "        res['designator'] = self.designator\n",
    "        res['partId'] = self.partId\n",
    "        res['pinId'] = self.pinId\n",
    "\n",
    "        return res"
   ]
  },
  {
   "cell_type": "code",
   "execution_count": 25,
   "id": "763aee39-a3a2-430d-b4b7-8bb757a4ce91",
   "metadata": {},
   "outputs": [],
   "source": [
    "def parse_file_for_defects(path):\n",
    "    root = etree.parse(path)\n",
    "    ns = root.getroot().nsmap\n",
    "    res = [] #Defect()\n",
    "    serialNumber = root.getroot().find(\"ns1:BoardXML\", ns).attrib.get('serialNumber')\n",
    "    testerName = root.getroot().find(\"ns1:StationXML\", ns).attrib.get('testerName')\n",
    "    assemblyRevision = root.getroot().find(\"ns1:BoardXML\", ns).attrib.get('assemblyRevision')\n",
    "\n",
    "    # TestXML = root.getroot().findall(\".//ns1:TestXML\", ns)\n",
    "    TestXML = root.getroot().findall(\".//ns1:TestXML\", ns)\n",
    "    for test in TestXML:\n",
    "        name = test.attrib.get('name')\n",
    "        IndictmentXML = test.findall(\".//ns1:IndictmentXML\", ns)\n",
    "        PinXML = test.findall(\".//ns1:PinXML\", ns)\n",
    "    \n",
    "        for Indictment in IndictmentXML:\n",
    "            tmp = Defect()\n",
    "            tmp.assemblyRevision = assemblyRevision\n",
    "            tmp.serialNumber = serialNumber\n",
    "            tmp.testerName = testerName\n",
    "            tmp.designator = name\n",
    "            tmp.type = 'IndictmentXML'\n",
    "            tmp.indictmentType = Indictment.attrib.get('indictmentType')\n",
    "            tmp.repairOperator = Indictment.find(\"ns1:RepairActionXML\", ns).attrib.get('repairOperator')\n",
    "            tmp.repairStatus = Indictment.find(\"ns1:RepairActionXML\", ns).attrib.get('repairStatus')\n",
    "            tmp.partId = Indictment.find(\"ns1:ComponentXML\", ns).attrib.get('partId')\n",
    "            res.append(tmp)\n",
    "\n",
    "        partId = IndictmentXML[0].find(\"ns1:ComponentXML\", ns).attrib.get('partId')\n",
    "        for pin in PinXML:\n",
    "            repairStatus = pin.attrib.get('repairStatus')\n",
    "            id = pin.attrib.get('id')\n",
    "            PinIndictmentXML = pin.findall(\".//ns1:PinIndictmentXML\", ns)\n",
    "\n",
    "            for pinIndictment in PinIndictmentXML:\n",
    "                tmp = Defect()\n",
    "                tmp.assemblyRevision = assemblyRevision\n",
    "                tmp.serialNumber = serialNumber\n",
    "                tmp.testerName = testerName\n",
    "                tmp.designator = name\n",
    "                tmp.type = 'PinXML'\n",
    "                tmp.indictmentType = Indictment.attrib.get('indictmentType')\n",
    "                tmp.repairOperator = Indictment.find(\"ns1:RepairActionXML\", ns).attrib.get('repairOperator')\n",
    "                tmp.repairStatus = repairStatus\n",
    "                tmp.partId = partId\n",
    "                tmp.pinId = id\n",
    "                res.append(tmp)\n",
    "        \n",
    "    return res\n"
   ]
  },
  {
   "cell_type": "code",
   "execution_count": 26,
   "id": "04a45b85-cc58-49e8-a3e2-9411b5daff2c",
   "metadata": {},
   "outputs": [
    {
     "data": {
      "text/plain": [
       "348"
      ]
     },
     "execution_count": 26,
     "metadata": {},
     "output_type": "execute_result"
    }
   ],
   "source": [
    "file_1 = parse_file_for_defects(path)\n",
    "len(file_1)"
   ]
  },
  {
   "cell_type": "code",
   "execution_count": 27,
   "id": "e0ae37d4-d754-4384-9c4d-dab3895f6e47",
   "metadata": {},
   "outputs": [
    {
     "data": {
      "text/plain": [
       "{'assemblyRevision': 'MBDX86742001B_T',\n",
       " 'serialNumber': 'Y1MTB44B5Z05F',\n",
       " 'testerName': 'D-SMT-AOI-41',\n",
       " 'type': 'PinXML',\n",
       " 'indictmentType': 'Coplanarity',\n",
       " 'repairOperator': 'Svetlana_VVTS08',\n",
       " 'repairStatus': 'False Call',\n",
       " 'designator': '1:c22',\n",
       " 'partId': 'GRM188C80G106KE47D',\n",
       " 'pinId': '0'}"
      ]
     },
     "execution_count": 27,
     "metadata": {},
     "output_type": "execute_result"
    }
   ],
   "source": [
    "file_1[200].to_dict()"
   ]
  },
  {
   "cell_type": "code",
   "execution_count": 29,
   "id": "a2f196d2-3300-46a3-b208-2caf4c1185de",
   "metadata": {},
   "outputs": [],
   "source": [
    "from os import listdir\n",
    "mypath = '/media/ilya/My Passport/HSE/VKR/ML_AOI_helper/rawDATA/all-vvts-xml-marchonly/'\n",
    "all_files = listdir(mypath)"
   ]
  },
  {
   "cell_type": "code",
   "execution_count": 30,
   "id": "6d104c17-b31b-48a8-aeb4-b865aed73eaa",
   "metadata": {},
   "outputs": [
    {
     "data": {
      "text/plain": [
       "'Y2G9A44BYF00D#MBDX86691004A_T#V510#D-SMT-AOI-51#1#1709316486000#PostRepair#1709317954000.xml'"
      ]
     },
     "execution_count": 30,
     "metadata": {},
     "output_type": "execute_result"
    }
   ],
   "source": [
    "all_files[4]"
   ]
  },
  {
   "cell_type": "code",
   "execution_count": 33,
   "id": "3e2fd54a-82ce-44d8-a5a4-ae0783ee8e02",
   "metadata": {},
   "outputs": [],
   "source": [
    "all_defects = []\n",
    "\n",
    "for file in all_files:\n",
    "    tmp = parse_file_for_defects(mypath + file)\n",
    "    all_defects.extend(tmp)"
   ]
  },
  {
   "cell_type": "code",
   "execution_count": 34,
   "id": "d25c3b54-4fd0-4b06-a412-7bcd071ab0e5",
   "metadata": {},
   "outputs": [
    {
     "data": {
      "text/plain": [
       "354537"
      ]
     },
     "execution_count": 34,
     "metadata": {},
     "output_type": "execute_result"
    }
   ],
   "source": [
    "len(all_defects)"
   ]
  },
  {
   "cell_type": "code",
   "execution_count": 39,
   "id": "8a0aa17f-3857-4674-ae55-ab1cd89fe7d6",
   "metadata": {},
   "outputs": [
    {
     "data": {
      "text/plain": [
       "{'assemblyRevision': 'MBDX86742001B_T',\n",
       " 'serialNumber': 'Y1MTB44BYF01E',\n",
       " 'testerName': 'D-SMT-AOI-41',\n",
       " 'type': 'PinXML',\n",
       " 'indictmentType': 'Polarity',\n",
       " 'repairOperator': 'Larisa_VVTS08',\n",
       " 'repairStatus': 'False Call',\n",
       " 'designator': '1:d91',\n",
       " 'partId': 'QTLP601CRTR',\n",
       " 'pinId': '0'}"
      ]
     },
     "execution_count": 39,
     "metadata": {},
     "output_type": "execute_result"
    }
   ],
   "source": [
    "all_defects[200002].to_dict()"
   ]
  },
  {
   "cell_type": "code",
   "execution_count": null,
   "id": "0c767ec2-1c91-4e57-a0e6-61c44abe62f1",
   "metadata": {},
   "outputs": [],
   "source": []
  },
  {
   "cell_type": "code",
   "execution_count": null,
   "id": "81acc85c-074c-464d-8ec5-0f60e40a3df1",
   "metadata": {},
   "outputs": [],
   "source": []
  },
  {
   "cell_type": "code",
   "execution_count": null,
   "id": "4c92b75e-1d80-4f4d-bde4-dae6929db291",
   "metadata": {},
   "outputs": [],
   "source": []
  },
  {
   "cell_type": "code",
   "execution_count": null,
   "id": "641f5f8e-5c4f-4b65-ba94-8c4d951eb04a",
   "metadata": {},
   "outputs": [],
   "source": []
  },
  {
   "cell_type": "code",
   "execution_count": null,
   "id": "f349804e-d1e2-4617-b012-8a4719108d87",
   "metadata": {},
   "outputs": [],
   "source": []
  }
 ],
 "metadata": {
  "kernelspec": {
   "display_name": "Python 3 (ipykernel)",
   "language": "python",
   "name": "python3"
  },
  "language_info": {
   "codemirror_mode": {
    "name": "ipython",
    "version": 3
   },
   "file_extension": ".py",
   "mimetype": "text/x-python",
   "name": "python",
   "nbconvert_exporter": "python",
   "pygments_lexer": "ipython3",
   "version": "3.10.12"
  }
 },
 "nbformat": 4,
 "nbformat_minor": 5
}
