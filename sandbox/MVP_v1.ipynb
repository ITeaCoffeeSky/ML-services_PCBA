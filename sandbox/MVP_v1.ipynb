{
 "cells": [
  {
   "cell_type": "code",
   "execution_count": 1,
   "id": "8171bba6-714a-4e63-a917-bc5cffe356c3",
   "metadata": {},
   "outputs": [],
   "source": [
    "from lxml import etree"
   ]
  },
  {
   "cell_type": "code",
   "execution_count": 2,
   "id": "cb4b8132-935b-4a6d-93aa-80409faa9643",
   "metadata": {},
   "outputs": [
    {
     "data": {
      "text/plain": [
       "(<lxml.etree._ElementTree at 0x7f989029dc80>,\n",
       " <Element {http://tempuri.org/BoardTestXMLExport.xsd}BoardTestXMLExport at 0x7f98902ccec0>)"
      ]
     },
     "execution_count": 2,
     "metadata": {},
     "output_type": "execute_result"
    }
   ],
   "source": [
    "path = '/media/ilya/My Passport/HSE/VKR/ML_AOI_helper/rawDATA/all-vvts-xml-marchonly/Y1MTB44B5Z05F#MBDX86742001B_T#V510#D-SMT-AOI-41#1#1709274502000#PostRepair#1709276140000.xml'\n",
    "root = etree.parse(path)\n",
    "root, root.getroot()"
   ]
  },
  {
   "cell_type": "code",
   "execution_count": 3,
   "id": "2fdb098c-4c44-4488-b0c4-0cd03c35f630",
   "metadata": {},
   "outputs": [
    {
     "data": {
      "text/plain": [
       "[]"
      ]
     },
     "execution_count": 3,
     "metadata": {},
     "output_type": "execute_result"
    }
   ],
   "source": [
    "root.xpath('//BoardTestXMLExport/text', namespaces=root.getroot().nsmap)"
   ]
  },
  {
   "cell_type": "code",
   "execution_count": 4,
   "id": "9ff3fb83-7a38-4eb4-8092-e68616e6cc00",
   "metadata": {},
   "outputs": [
    {
     "data": {
      "text/plain": [
       "'{http://tempuri.org/BoardTestXMLExport.xsd}BoardTestXMLExport'"
      ]
     },
     "execution_count": 4,
     "metadata": {},
     "output_type": "execute_result"
    }
   ],
   "source": [
    "root.getroot().tag"
   ]
  },
  {
   "cell_type": "code",
   "execution_count": 5,
   "id": "93f36b87-974b-4d05-8e58-3c0bcb0b13e9",
   "metadata": {},
   "outputs": [
    {
     "data": {
      "text/plain": [
       "{'ns1': 'http://tempuri.org/BoardTestXMLExport.xsd'}"
      ]
     },
     "execution_count": 5,
     "metadata": {},
     "output_type": "execute_result"
    }
   ],
   "source": [
    "ns = root.getroot().nsmap\n",
    "ns"
   ]
  },
  {
   "cell_type": "code",
   "execution_count": 6,
   "id": "d4026bf2-e4e6-473a-bd50-28da87dd16a3",
   "metadata": {},
   "outputs": [
    {
     "data": {
      "text/plain": [
       "'Y1MTB44B5Z05F'"
      ]
     },
     "execution_count": 6,
     "metadata": {},
     "output_type": "execute_result"
    }
   ],
   "source": [
    "sn = root.getroot().find(\"ns1:BoardXML\", ns).attrib.get('serialNumber')\n",
    "sn"
   ]
  },
  {
   "cell_type": "code",
   "execution_count": 7,
   "id": "f064e245-b2dc-498e-9902-1e1ea2fe3481",
   "metadata": {},
   "outputs": [],
   "source": [
    "root.getroot().find('BoardXML', namespaces=root.getroot().nsmap)"
   ]
  },
  {
   "cell_type": "code",
   "execution_count": 8,
   "id": "22385d0d-8019-45ff-81f1-fde0cd538b60",
   "metadata": {},
   "outputs": [
    {
     "data": {
      "text/plain": [
       "<Element {http://tempuri.org/BoardTestXMLExport.xsd}root at 0x7f98902a9540>"
      ]
     },
     "execution_count": 8,
     "metadata": {},
     "output_type": "execute_result"
    }
   ],
   "source": [
    "rootaa = etree.XML(\"\"\"<ns1:root xmlns:ns1=\"http://tempuri.org/BoardTestXMLExport.xsd\" ><ns1:a x='123'>aText<b/><c/><b/></ns1:a></ns1:root>\"\"\")\n",
    "rootaa"
   ]
  },
  {
   "cell_type": "code",
   "execution_count": 9,
   "id": "05571a88-de11-491d-b001-f1e9ee217336",
   "metadata": {},
   "outputs": [
    {
     "data": {
      "text/plain": [
       "'aText'"
      ]
     },
     "execution_count": 9,
     "metadata": {},
     "output_type": "execute_result"
    }
   ],
   "source": [
    "rootaa.find(\".//ns1:a\", ns).text"
   ]
  },
  {
   "cell_type": "code",
   "execution_count": 10,
   "id": "8792fa72-f3d9-4a28-b9bc-29dcdac545fc",
   "metadata": {},
   "outputs": [
    {
     "data": {
      "text/plain": [
       "74"
      ]
     },
     "execution_count": 10,
     "metadata": {},
     "output_type": "execute_result"
    }
   ],
   "source": [
    "tests = root.getroot().findall(\".//ns1:TestXML\", ns) #.attrib.get('name')\n",
    "len(tests)"
   ]
  },
  {
   "cell_type": "code",
   "execution_count": 11,
   "id": "f0ae8745-639d-4aac-ad09-e3d92e7c853d",
   "metadata": {},
   "outputs": [
    {
     "data": {
      "text/plain": [
       "[<Element {http://tempuri.org/BoardTestXMLExport.xsd}IndictmentXML at 0x7f988819c440>,\n",
       " <Element {http://tempuri.org/BoardTestXMLExport.xsd}IndictmentXML at 0x7f988819c480>]"
      ]
     },
     "execution_count": 11,
     "metadata": {},
     "output_type": "execute_result"
    }
   ],
   "source": [
    "aa = tests[0].findall(\".//ns1:IndictmentXML\", ns)\n",
    "aa"
   ]
  },
  {
   "cell_type": "code",
   "execution_count": 12,
   "id": "f7af659a-8e6e-42c9-b1a3-4ea1c2b43263",
   "metadata": {},
   "outputs": [
    {
     "data": {
      "text/plain": [
       "<Element {http://tempuri.org/BoardTestXMLExport.xsd}RepairActionXML at 0x7f988819c5c0>"
      ]
     },
     "execution_count": 12,
     "metadata": {},
     "output_type": "execute_result"
    }
   ],
   "source": [
    "aaa = aa[0].find(\"ns1:RepairActionXML\", ns)\n",
    "aaa"
   ]
  },
  {
   "cell_type": "code",
   "execution_count": 13,
   "id": "1f91806f-d0af-43cf-9daa-07a9ed88ee11",
   "metadata": {},
   "outputs": [],
   "source": [
    "class Defect:\n",
    "    assemblyRevision = ''\n",
    "    serialNumber = ''\n",
    "    testerName = ''\n",
    "    type = ''\n",
    "    indictmentType = ''\n",
    "    repairOperator = ''\n",
    "    repairStatus = ''\n",
    "    designator = ''\n",
    "    partId = ''\n",
    "    pinId = ''\n",
    "\n",
    "    def to_dict(self):\n",
    "        res = {}\n",
    "        res['assemblyRevision'] = self.assemblyRevision\n",
    "        res['serialNumber'] = self.serialNumber\n",
    "        res['testerName'] = self.testerName\n",
    "        res['type'] = self.type\n",
    "        res['indictmentType'] = self.indictmentType\n",
    "        res['repairOperator'] = self.repairOperator\n",
    "        res['repairStatus'] = self.repairStatus\n",
    "        res['designator'] = self.designator\n",
    "        res['partId'] = self.partId\n",
    "        res['pinId'] = self.pinId\n",
    "\n",
    "        return res"
   ]
  },
  {
   "cell_type": "code",
   "execution_count": 14,
   "id": "763aee39-a3a2-430d-b4b7-8bb757a4ce91",
   "metadata": {},
   "outputs": [],
   "source": [
    "def parse_file_for_defects(path):\n",
    "    root = etree.parse(path)\n",
    "    ns = root.getroot().nsmap\n",
    "    res = [] #Defect()\n",
    "    serialNumber = root.getroot().find(\"ns1:BoardXML\", ns).attrib.get('serialNumber')\n",
    "    testerName = root.getroot().find(\"ns1:StationXML\", ns).attrib.get('testerName')\n",
    "    assemblyRevision = root.getroot().find(\"ns1:BoardXML\", ns).attrib.get('assemblyRevision')\n",
    "\n",
    "    # TestXML = root.getroot().findall(\".//ns1:TestXML\", ns)\n",
    "    TestXML = root.getroot().findall(\".//ns1:TestXML\", ns)\n",
    "    for test in TestXML:\n",
    "        name = test.attrib.get('name')\n",
    "        IndictmentXML = test.findall(\".//ns1:IndictmentXML\", ns)\n",
    "        PinXML = test.findall(\".//ns1:PinXML\", ns)\n",
    "    \n",
    "        for Indictment in IndictmentXML:\n",
    "            tmp = Defect()\n",
    "            tmp.assemblyRevision = assemblyRevision\n",
    "            tmp.serialNumber = serialNumber\n",
    "            tmp.testerName = testerName\n",
    "            tmp.designator = name\n",
    "            tmp.type = 'IndictmentXML'\n",
    "            tmp.indictmentType = Indictment.attrib.get('indictmentType')\n",
    "            tmp.repairOperator = Indictment.find(\"ns1:RepairActionXML\", ns).attrib.get('repairOperator')\n",
    "            tmp.repairStatus = Indictment.find(\"ns1:RepairActionXML\", ns).attrib.get('repairStatus')\n",
    "            tmp.partId = Indictment.find(\"ns1:ComponentXML\", ns).attrib.get('partId')\n",
    "            res.append(tmp)\n",
    "\n",
    "        partId = IndictmentXML[0].find(\"ns1:ComponentXML\", ns).attrib.get('partId')\n",
    "        for pin in PinXML:\n",
    "            repairStatus = pin.attrib.get('repairStatus')\n",
    "            id = pin.attrib.get('id')\n",
    "            PinIndictmentXML = pin.findall(\".//ns1:PinIndictmentXML\", ns)\n",
    "\n",
    "            for pinIndictment in PinIndictmentXML:\n",
    "                tmp = Defect()\n",
    "                tmp.assemblyRevision = assemblyRevision\n",
    "                tmp.serialNumber = serialNumber\n",
    "                tmp.testerName = testerName\n",
    "                tmp.designator = name\n",
    "                tmp.type = 'PinXML'\n",
    "                tmp.indictmentType = Indictment.attrib.get('indictmentType')\n",
    "                tmp.repairOperator = Indictment.find(\"ns1:RepairActionXML\", ns).attrib.get('repairOperator')\n",
    "                tmp.repairStatus = repairStatus\n",
    "                tmp.partId = partId\n",
    "                tmp.pinId = id\n",
    "                res.append(tmp)\n",
    "        \n",
    "    return res\n"
   ]
  },
  {
   "cell_type": "code",
   "execution_count": 15,
   "id": "04a45b85-cc58-49e8-a3e2-9411b5daff2c",
   "metadata": {},
   "outputs": [
    {
     "data": {
      "text/plain": [
       "348"
      ]
     },
     "execution_count": 15,
     "metadata": {},
     "output_type": "execute_result"
    }
   ],
   "source": [
    "file_1 = parse_file_for_defects(path)\n",
    "len(file_1)"
   ]
  },
  {
   "cell_type": "code",
   "execution_count": 16,
   "id": "e0ae37d4-d754-4384-9c4d-dab3895f6e47",
   "metadata": {},
   "outputs": [
    {
     "data": {
      "text/plain": [
       "{'assemblyRevision': 'MBDX86742001B_T',\n",
       " 'serialNumber': 'Y1MTB44B5Z05F',\n",
       " 'testerName': 'D-SMT-AOI-41',\n",
       " 'type': 'PinXML',\n",
       " 'indictmentType': 'Coplanarity',\n",
       " 'repairOperator': 'Svetlana_VVTS08',\n",
       " 'repairStatus': 'False Call',\n",
       " 'designator': '1:c22',\n",
       " 'partId': 'GRM188C80G106KE47D',\n",
       " 'pinId': '0'}"
      ]
     },
     "execution_count": 16,
     "metadata": {},
     "output_type": "execute_result"
    }
   ],
   "source": [
    "file_1[200].to_dict()"
   ]
  },
  {
   "cell_type": "code",
   "execution_count": 17,
   "id": "a2f196d2-3300-46a3-b208-2caf4c1185de",
   "metadata": {},
   "outputs": [],
   "source": [
    "from os import listdir\n",
    "mypath = '/media/ilya/My Passport/HSE/VKR/ML_AOI_helper/rawDATA/all-vvts-xml-marchonly/'\n",
    "all_files = listdir(mypath)"
   ]
  },
  {
   "cell_type": "code",
   "execution_count": 18,
   "id": "6d104c17-b31b-48a8-aeb4-b865aed73eaa",
   "metadata": {},
   "outputs": [
    {
     "data": {
      "text/plain": [
       "'Y2G9A44BYF00D#MBDX86691004A_T#V510#D-SMT-AOI-51#1#1709316486000#PostRepair#1709317954000.xml'"
      ]
     },
     "execution_count": 18,
     "metadata": {},
     "output_type": "execute_result"
    }
   ],
   "source": [
    "all_files[4]"
   ]
  },
  {
   "cell_type": "code",
   "execution_count": 27,
   "id": "3e2fd54a-82ce-44d8-a5a4-ae0783ee8e02",
   "metadata": {},
   "outputs": [],
   "source": [
    "all_defects = []\n",
    "\n",
    "for file in all_files:\n",
    "    tmp = parse_file_for_defects(mypath + file)\n",
    "    for t in tmp:\n",
    "        all_defects.append(t.to_dict())"
   ]
  },
  {
   "cell_type": "code",
   "execution_count": 28,
   "id": "d25c3b54-4fd0-4b06-a412-7bcd071ab0e5",
   "metadata": {},
   "outputs": [
    {
     "data": {
      "text/plain": [
       "354537"
      ]
     },
     "execution_count": 28,
     "metadata": {},
     "output_type": "execute_result"
    }
   ],
   "source": [
    "len(all_defects)"
   ]
  },
  {
   "cell_type": "code",
   "execution_count": 29,
   "id": "8a0aa17f-3857-4674-ae55-ab1cd89fe7d6",
   "metadata": {},
   "outputs": [
    {
     "data": {
      "text/plain": [
       "{'assemblyRevision': 'MBDX86742001B_T',\n",
       " 'serialNumber': 'Y1MTB44BYF01E',\n",
       " 'testerName': 'D-SMT-AOI-41',\n",
       " 'type': 'PinXML',\n",
       " 'indictmentType': 'Polarity',\n",
       " 'repairOperator': 'Larisa_VVTS08',\n",
       " 'repairStatus': 'False Call',\n",
       " 'designator': '1:d91',\n",
       " 'partId': 'QTLP601CRTR',\n",
       " 'pinId': '0'}"
      ]
     },
     "execution_count": 29,
     "metadata": {},
     "output_type": "execute_result"
    }
   ],
   "source": [
    "all_defects[200002]"
   ]
  },
  {
   "cell_type": "code",
   "execution_count": 30,
   "id": "0c767ec2-1c91-4e57-a0e6-61c44abe62f1",
   "metadata": {},
   "outputs": [],
   "source": [
    "import pandas as pd\n",
    "\n",
    "df = pd.DataFrame(all_defects)"
   ]
  },
  {
   "cell_type": "code",
   "execution_count": 32,
   "id": "81acc85c-074c-464d-8ec5-0f60e40a3df1",
   "metadata": {},
   "outputs": [
    {
     "data": {
      "text/plain": [
       "4618"
      ]
     },
     "execution_count": 32,
     "metadata": {},
     "output_type": "execute_result"
    }
   ],
   "source": [
    "df[df.repairStatus != 'False Call'].shape[0]"
   ]
  },
  {
   "cell_type": "code",
   "execution_count": 34,
   "id": "4c92b75e-1d80-4f4d-bde4-dae6929db291",
   "metadata": {},
   "outputs": [
    {
     "data": {
      "text/plain": [
       "354537"
      ]
     },
     "execution_count": 34,
     "metadata": {},
     "output_type": "execute_result"
    }
   ],
   "source": [
    "df[df.repairStatus == 'False Call'].shape[0] + df[df.repairStatus != 'False Call'].shape[0]"
   ]
  },
  {
   "cell_type": "code",
   "execution_count": 36,
   "id": "641f5f8e-5c4f-4b65-ba94-8c4d951eb04a",
   "metadata": {},
   "outputs": [
    {
     "data": {
      "text/plain": [
       "<bound method NDFrame.head of        assemblyRevision   serialNumber    testerName           type  \\\n",
       "49      MBDX86691004A_T  Y2G9A44BYF00B  D-SMT-AOI-51  IndictmentXML   \n",
       "50      MBDX86691004A_T  Y2G9A44BYF00B  D-SMT-AOI-51         PinXML   \n",
       "51      MBDX86691004A_T  Y2G9A44BYF00B  D-SMT-AOI-51         PinXML   \n",
       "52      MBDX86691004A_T  Y2G9A44BYF00B  D-SMT-AOI-51  IndictmentXML   \n",
       "53      MBDX86691004A_T  Y2G9A44BYF00B  D-SMT-AOI-51         PinXML   \n",
       "...                 ...            ...           ...            ...   \n",
       "354090  MBDX86691004A_T  Y2G9A44BYF008  D-SMT-AOI-51         PinXML   \n",
       "354091  MBDX86691004A_T  Y2G9A44BYF008  D-SMT-AOI-51         PinXML   \n",
       "354187  MBDX86691004A_T  Y2G9A44BYF009  D-SMT-AOI-51  IndictmentXML   \n",
       "354188  MBDX86691004A_T  Y2G9A44BYF009  D-SMT-AOI-51         PinXML   \n",
       "354189  MBDX86691004A_T  Y2G9A44BYF009  D-SMT-AOI-51         PinXML   \n",
       "\n",
       "       indictmentType repairOperator repairStatus designator  \\\n",
       "49        Coplanarity        Semen_O     Repaired    1:rq238   \n",
       "50        Coplanarity        Semen_O     Repaired    1:rq238   \n",
       "51        Coplanarity        Semen_O     Repaired    1:rq238   \n",
       "52        Coplanarity        Semen_O     Repaired   1:rp1186   \n",
       "53        Coplanarity        Semen_O     Repaired   1:rp1186   \n",
       "...               ...            ...          ...        ...   \n",
       "354090       XS paste        Semen_O     Repaired    1:rs455   \n",
       "354091       XS paste        Semen_O     Repaired    1:rs455   \n",
       "354187       BadJoint        Semen_O     Repaired    1:rp816   \n",
       "354188       BadJoint        Semen_O     Repaired    1:rp816   \n",
       "354189       BadJoint        Semen_O     Repaired    1:rp816   \n",
       "\n",
       "                     partId pinId  \n",
       "49      01_1_01_2220301-Y01        \n",
       "50      01_1_01_2220301-Y01     0  \n",
       "51      01_1_01_2220301-Y01     1  \n",
       "52      01_1_01_2000001-Y01        \n",
       "53      01_1_01_2000001-Y01     0  \n",
       "...                     ...   ...  \n",
       "354090  01_1_01_0075301-Y01     0  \n",
       "354091  01_1_01_0075301-Y01     1  \n",
       "354187  10_03_01_112011-01Y        \n",
       "354188  10_03_01_112011-01Y     0  \n",
       "354189  10_03_01_112011-01Y     1  \n",
       "\n",
       "[4618 rows x 10 columns]>"
      ]
     },
     "execution_count": 36,
     "metadata": {},
     "output_type": "execute_result"
    }
   ],
   "source": [
    "df[df.repairStatus != 'False Call'].head"
   ]
  },
  {
   "cell_type": "code",
   "execution_count": 37,
   "id": "f349804e-d1e2-4617-b012-8a4719108d87",
   "metadata": {},
   "outputs": [
    {
     "data": {
      "text/html": [
       "<div>\n",
       "<style scoped>\n",
       "    .dataframe tbody tr th:only-of-type {\n",
       "        vertical-align: middle;\n",
       "    }\n",
       "\n",
       "    .dataframe tbody tr th {\n",
       "        vertical-align: top;\n",
       "    }\n",
       "\n",
       "    .dataframe thead th {\n",
       "        text-align: right;\n",
       "    }\n",
       "</style>\n",
       "<table border=\"1\" class=\"dataframe\">\n",
       "  <thead>\n",
       "    <tr style=\"text-align: right;\">\n",
       "      <th></th>\n",
       "      <th>assemblyRevision</th>\n",
       "      <th>serialNumber</th>\n",
       "      <th>testerName</th>\n",
       "      <th>type</th>\n",
       "      <th>indictmentType</th>\n",
       "      <th>repairOperator</th>\n",
       "      <th>repairStatus</th>\n",
       "      <th>designator</th>\n",
       "      <th>partId</th>\n",
       "      <th>pinId</th>\n",
       "    </tr>\n",
       "  </thead>\n",
       "  <tbody>\n",
       "    <tr>\n",
       "      <th>49</th>\n",
       "      <td>MBDX86691004A_T</td>\n",
       "      <td>Y2G9A44BYF00B</td>\n",
       "      <td>D-SMT-AOI-51</td>\n",
       "      <td>IndictmentXML</td>\n",
       "      <td>Coplanarity</td>\n",
       "      <td>Semen_O</td>\n",
       "      <td>Repaired</td>\n",
       "      <td>1:rq238</td>\n",
       "      <td>01_1_01_2220301-Y01</td>\n",
       "      <td></td>\n",
       "    </tr>\n",
       "    <tr>\n",
       "      <th>50</th>\n",
       "      <td>MBDX86691004A_T</td>\n",
       "      <td>Y2G9A44BYF00B</td>\n",
       "      <td>D-SMT-AOI-51</td>\n",
       "      <td>PinXML</td>\n",
       "      <td>Coplanarity</td>\n",
       "      <td>Semen_O</td>\n",
       "      <td>Repaired</td>\n",
       "      <td>1:rq238</td>\n",
       "      <td>01_1_01_2220301-Y01</td>\n",
       "      <td>0</td>\n",
       "    </tr>\n",
       "    <tr>\n",
       "      <th>51</th>\n",
       "      <td>MBDX86691004A_T</td>\n",
       "      <td>Y2G9A44BYF00B</td>\n",
       "      <td>D-SMT-AOI-51</td>\n",
       "      <td>PinXML</td>\n",
       "      <td>Coplanarity</td>\n",
       "      <td>Semen_O</td>\n",
       "      <td>Repaired</td>\n",
       "      <td>1:rq238</td>\n",
       "      <td>01_1_01_2220301-Y01</td>\n",
       "      <td>1</td>\n",
       "    </tr>\n",
       "    <tr>\n",
       "      <th>52</th>\n",
       "      <td>MBDX86691004A_T</td>\n",
       "      <td>Y2G9A44BYF00B</td>\n",
       "      <td>D-SMT-AOI-51</td>\n",
       "      <td>IndictmentXML</td>\n",
       "      <td>Coplanarity</td>\n",
       "      <td>Semen_O</td>\n",
       "      <td>Repaired</td>\n",
       "      <td>1:rp1186</td>\n",
       "      <td>01_1_01_2000001-Y01</td>\n",
       "      <td></td>\n",
       "    </tr>\n",
       "    <tr>\n",
       "      <th>53</th>\n",
       "      <td>MBDX86691004A_T</td>\n",
       "      <td>Y2G9A44BYF00B</td>\n",
       "      <td>D-SMT-AOI-51</td>\n",
       "      <td>PinXML</td>\n",
       "      <td>Coplanarity</td>\n",
       "      <td>Semen_O</td>\n",
       "      <td>Repaired</td>\n",
       "      <td>1:rp1186</td>\n",
       "      <td>01_1_01_2000001-Y01</td>\n",
       "      <td>0</td>\n",
       "    </tr>\n",
       "    <tr>\n",
       "      <th>...</th>\n",
       "      <td>...</td>\n",
       "      <td>...</td>\n",
       "      <td>...</td>\n",
       "      <td>...</td>\n",
       "      <td>...</td>\n",
       "      <td>...</td>\n",
       "      <td>...</td>\n",
       "      <td>...</td>\n",
       "      <td>...</td>\n",
       "      <td>...</td>\n",
       "    </tr>\n",
       "    <tr>\n",
       "      <th>354090</th>\n",
       "      <td>MBDX86691004A_T</td>\n",
       "      <td>Y2G9A44BYF008</td>\n",
       "      <td>D-SMT-AOI-51</td>\n",
       "      <td>PinXML</td>\n",
       "      <td>XS paste</td>\n",
       "      <td>Semen_O</td>\n",
       "      <td>Repaired</td>\n",
       "      <td>1:rs455</td>\n",
       "      <td>01_1_01_0075301-Y01</td>\n",
       "      <td>0</td>\n",
       "    </tr>\n",
       "    <tr>\n",
       "      <th>354091</th>\n",
       "      <td>MBDX86691004A_T</td>\n",
       "      <td>Y2G9A44BYF008</td>\n",
       "      <td>D-SMT-AOI-51</td>\n",
       "      <td>PinXML</td>\n",
       "      <td>XS paste</td>\n",
       "      <td>Semen_O</td>\n",
       "      <td>Repaired</td>\n",
       "      <td>1:rs455</td>\n",
       "      <td>01_1_01_0075301-Y01</td>\n",
       "      <td>1</td>\n",
       "    </tr>\n",
       "    <tr>\n",
       "      <th>354187</th>\n",
       "      <td>MBDX86691004A_T</td>\n",
       "      <td>Y2G9A44BYF009</td>\n",
       "      <td>D-SMT-AOI-51</td>\n",
       "      <td>IndictmentXML</td>\n",
       "      <td>BadJoint</td>\n",
       "      <td>Semen_O</td>\n",
       "      <td>Repaired</td>\n",
       "      <td>1:rp816</td>\n",
       "      <td>10_03_01_112011-01Y</td>\n",
       "      <td></td>\n",
       "    </tr>\n",
       "    <tr>\n",
       "      <th>354188</th>\n",
       "      <td>MBDX86691004A_T</td>\n",
       "      <td>Y2G9A44BYF009</td>\n",
       "      <td>D-SMT-AOI-51</td>\n",
       "      <td>PinXML</td>\n",
       "      <td>BadJoint</td>\n",
       "      <td>Semen_O</td>\n",
       "      <td>Repaired</td>\n",
       "      <td>1:rp816</td>\n",
       "      <td>10_03_01_112011-01Y</td>\n",
       "      <td>0</td>\n",
       "    </tr>\n",
       "    <tr>\n",
       "      <th>354189</th>\n",
       "      <td>MBDX86691004A_T</td>\n",
       "      <td>Y2G9A44BYF009</td>\n",
       "      <td>D-SMT-AOI-51</td>\n",
       "      <td>PinXML</td>\n",
       "      <td>BadJoint</td>\n",
       "      <td>Semen_O</td>\n",
       "      <td>Repaired</td>\n",
       "      <td>1:rp816</td>\n",
       "      <td>10_03_01_112011-01Y</td>\n",
       "      <td>1</td>\n",
       "    </tr>\n",
       "  </tbody>\n",
       "</table>\n",
       "<p>4618 rows × 10 columns</p>\n",
       "</div>"
      ],
      "text/plain": [
       "       assemblyRevision   serialNumber    testerName           type  \\\n",
       "49      MBDX86691004A_T  Y2G9A44BYF00B  D-SMT-AOI-51  IndictmentXML   \n",
       "50      MBDX86691004A_T  Y2G9A44BYF00B  D-SMT-AOI-51         PinXML   \n",
       "51      MBDX86691004A_T  Y2G9A44BYF00B  D-SMT-AOI-51         PinXML   \n",
       "52      MBDX86691004A_T  Y2G9A44BYF00B  D-SMT-AOI-51  IndictmentXML   \n",
       "53      MBDX86691004A_T  Y2G9A44BYF00B  D-SMT-AOI-51         PinXML   \n",
       "...                 ...            ...           ...            ...   \n",
       "354090  MBDX86691004A_T  Y2G9A44BYF008  D-SMT-AOI-51         PinXML   \n",
       "354091  MBDX86691004A_T  Y2G9A44BYF008  D-SMT-AOI-51         PinXML   \n",
       "354187  MBDX86691004A_T  Y2G9A44BYF009  D-SMT-AOI-51  IndictmentXML   \n",
       "354188  MBDX86691004A_T  Y2G9A44BYF009  D-SMT-AOI-51         PinXML   \n",
       "354189  MBDX86691004A_T  Y2G9A44BYF009  D-SMT-AOI-51         PinXML   \n",
       "\n",
       "       indictmentType repairOperator repairStatus designator  \\\n",
       "49        Coplanarity        Semen_O     Repaired    1:rq238   \n",
       "50        Coplanarity        Semen_O     Repaired    1:rq238   \n",
       "51        Coplanarity        Semen_O     Repaired    1:rq238   \n",
       "52        Coplanarity        Semen_O     Repaired   1:rp1186   \n",
       "53        Coplanarity        Semen_O     Repaired   1:rp1186   \n",
       "...               ...            ...          ...        ...   \n",
       "354090       XS paste        Semen_O     Repaired    1:rs455   \n",
       "354091       XS paste        Semen_O     Repaired    1:rs455   \n",
       "354187       BadJoint        Semen_O     Repaired    1:rp816   \n",
       "354188       BadJoint        Semen_O     Repaired    1:rp816   \n",
       "354189       BadJoint        Semen_O     Repaired    1:rp816   \n",
       "\n",
       "                     partId pinId  \n",
       "49      01_1_01_2220301-Y01        \n",
       "50      01_1_01_2220301-Y01     0  \n",
       "51      01_1_01_2220301-Y01     1  \n",
       "52      01_1_01_2000001-Y01        \n",
       "53      01_1_01_2000001-Y01     0  \n",
       "...                     ...   ...  \n",
       "354090  01_1_01_0075301-Y01     0  \n",
       "354091  01_1_01_0075301-Y01     1  \n",
       "354187  10_03_01_112011-01Y        \n",
       "354188  10_03_01_112011-01Y     0  \n",
       "354189  10_03_01_112011-01Y     1  \n",
       "\n",
       "[4618 rows x 10 columns]"
      ]
     },
     "metadata": {},
     "output_type": "display_data"
    }
   ],
   "source": [
    "from IPython.display import display, HTML\n",
    "\n",
    "display(df[df.repairStatus != 'False Call'])"
   ]
  },
  {
   "cell_type": "code",
   "execution_count": 38,
   "id": "d7685d3f",
   "metadata": {},
   "outputs": [
    {
     "data": {
      "text/html": [
       "<div>\n",
       "<style scoped>\n",
       "    .dataframe tbody tr th:only-of-type {\n",
       "        vertical-align: middle;\n",
       "    }\n",
       "\n",
       "    .dataframe tbody tr th {\n",
       "        vertical-align: top;\n",
       "    }\n",
       "\n",
       "    .dataframe thead th {\n",
       "        text-align: right;\n",
       "    }\n",
       "</style>\n",
       "<table border=\"1\" class=\"dataframe\">\n",
       "  <thead>\n",
       "    <tr style=\"text-align: right;\">\n",
       "      <th></th>\n",
       "      <th>assemblyRevision</th>\n",
       "      <th>serialNumber</th>\n",
       "      <th>testerName</th>\n",
       "      <th>type</th>\n",
       "      <th>indictmentType</th>\n",
       "      <th>repairOperator</th>\n",
       "      <th>repairStatus</th>\n",
       "      <th>designator</th>\n",
       "      <th>partId</th>\n",
       "      <th>pinId</th>\n",
       "    </tr>\n",
       "  </thead>\n",
       "  <tbody>\n",
       "    <tr>\n",
       "      <th>count</th>\n",
       "      <td>4618</td>\n",
       "      <td>4618</td>\n",
       "      <td>4618</td>\n",
       "      <td>4618</td>\n",
       "      <td>4618</td>\n",
       "      <td>4618</td>\n",
       "      <td>4618</td>\n",
       "      <td>4618</td>\n",
       "      <td>2741</td>\n",
       "      <td>4618</td>\n",
       "    </tr>\n",
       "    <tr>\n",
       "      <th>unique</th>\n",
       "      <td>13</td>\n",
       "      <td>426</td>\n",
       "      <td>5</td>\n",
       "      <td>2</td>\n",
       "      <td>22</td>\n",
       "      <td>11</td>\n",
       "      <td>1</td>\n",
       "      <td>366</td>\n",
       "      <td>61</td>\n",
       "      <td>62</td>\n",
       "    </tr>\n",
       "    <tr>\n",
       "      <th>top</th>\n",
       "      <td>MBDX8674X001B</td>\n",
       "      <td>Y1MTB44B5Z04J</td>\n",
       "      <td>D-SMT-AOI-41</td>\n",
       "      <td>IndictmentXML</td>\n",
       "      <td>Lifted lead</td>\n",
       "      <td>FateevD</td>\n",
       "      <td>Repaired</td>\n",
       "      <td>top:1:U209:7</td>\n",
       "      <td>MEC1-108-02-L-D-RA1-SL</td>\n",
       "      <td></td>\n",
       "    </tr>\n",
       "    <tr>\n",
       "      <th>freq</th>\n",
       "      <td>1514</td>\n",
       "      <td>205</td>\n",
       "      <td>1813</td>\n",
       "      <td>2351</td>\n",
       "      <td>631</td>\n",
       "      <td>1221</td>\n",
       "      <td>4618</td>\n",
       "      <td>288</td>\n",
       "      <td>627</td>\n",
       "      <td>2351</td>\n",
       "    </tr>\n",
       "  </tbody>\n",
       "</table>\n",
       "</div>"
      ],
      "text/plain": [
       "       assemblyRevision   serialNumber    testerName           type  \\\n",
       "count              4618           4618          4618           4618   \n",
       "unique               13            426             5              2   \n",
       "top       MBDX8674X001B  Y1MTB44B5Z04J  D-SMT-AOI-41  IndictmentXML   \n",
       "freq               1514            205          1813           2351   \n",
       "\n",
       "       indictmentType repairOperator repairStatus    designator  \\\n",
       "count            4618           4618         4618          4618   \n",
       "unique             22             11            1           366   \n",
       "top       Lifted lead        FateevD     Repaired  top:1:U209:7   \n",
       "freq              631           1221         4618           288   \n",
       "\n",
       "                        partId pinId  \n",
       "count                     2741  4618  \n",
       "unique                      61    62  \n",
       "top     MEC1-108-02-L-D-RA1-SL        \n",
       "freq                       627  2351  "
      ]
     },
     "execution_count": 38,
     "metadata": {},
     "output_type": "execute_result"
    }
   ],
   "source": [
    "df[df.repairStatus != 'False Call'].describe()"
   ]
  },
  {
   "cell_type": "code",
   "execution_count": null,
   "id": "c0d78f4f",
   "metadata": {},
   "outputs": [],
   "source": []
  },
  {
   "cell_type": "code",
   "execution_count": null,
   "id": "7f4c341c",
   "metadata": {},
   "outputs": [],
   "source": []
  },
  {
   "cell_type": "code",
   "execution_count": null,
   "id": "ab620a23",
   "metadata": {},
   "outputs": [],
   "source": []
  },
  {
   "cell_type": "code",
   "execution_count": null,
   "id": "d81f1ae1",
   "metadata": {},
   "outputs": [],
   "source": []
  },
  {
   "cell_type": "code",
   "execution_count": null,
   "id": "fbff892d",
   "metadata": {},
   "outputs": [],
   "source": []
  }
 ],
 "metadata": {
  "kernelspec": {
   "display_name": "Python 3 (ipykernel)",
   "language": "python",
   "name": "python3"
  },
  "language_info": {
   "codemirror_mode": {
    "name": "ipython",
    "version": 3
   },
   "file_extension": ".py",
   "mimetype": "text/x-python",
   "name": "python",
   "nbconvert_exporter": "python",
   "pygments_lexer": "ipython3",
   "version": "3.10.12"
  }
 },
 "nbformat": 4,
 "nbformat_minor": 5
}
